{
 "cells": [
  {
   "cell_type": "code",
   "execution_count": 1,
   "metadata": {},
   "outputs": [],
   "source": [
    "import pyspark.sql.functions as F\n",
    "from pyspark.sql import SparkSession\n",
    "\n"
   ]
  },
  {
   "cell_type": "code",
   "execution_count": 2,
   "metadata": {},
   "outputs": [],
   "source": [
    "spark = SparkSession.builder.appName(\"IP logging\").getOrCreate()"
   ]
  },
  {
   "cell_type": "code",
   "execution_count": 3,
   "metadata": {},
   "outputs": [],
   "source": [
    "web_log_df = spark.read.csv('web_server_logs.csv', header=True, inferSchema=True)"
   ]
  },
  {
   "cell_type": "code",
   "execution_count": 4,
   "metadata": {},
   "outputs": [
    {
     "name": "stdout",
     "output_type": "stream",
     "text": [
      "+--------------+-------------------+------+--------------------+-------------+-------------+\n",
      "|            ip|          timestamp|method|                 url|response_code|response_size|\n",
      "+--------------+-------------------+------+--------------------+-------------+-------------+\n",
      "|21.104.147.251|2025-02-02 17:13:19|   PUT|     search/category|          404|         4336|\n",
      "|   79.55.85.39|2025-02-12 11:40:16|  POST|      blog/list/blog|          200|         6093|\n",
      "|146.23.151.150|2025-02-24 18:54:21|DELETE|           main/list|          200|         2327|\n",
      "| 214.156.65.56|2025-02-10 09:33:29|   PUT|category/app/explore|          404|          966|\n",
      "|  161.65.229.8|2025-02-16 01:26:03|   GET|explore/blog/wp-c...|          200|         3286|\n",
      "+--------------+-------------------+------+--------------------+-------------+-------------+\n",
      "only showing top 5 rows\n",
      "\n"
     ]
    }
   ],
   "source": [
    "web_log_df.show(5)"
   ]
  },
  {
   "cell_type": "markdown",
   "metadata": {},
   "source": [
    "1. Сгруппируйте данные по IP и посчитайте количество запросов для каждого IP, выводим 10 самых активных IP. Формат вывода, как на скрине ниже."
   ]
  },
  {
   "cell_type": "code",
   "execution_count": 5,
   "metadata": {},
   "outputs": [
    {
     "name": "stdout",
     "output_type": "stream",
     "text": [
      "Top 10 IP addreses:\n",
      "+---------------+-------------+\n",
      "|             ip|request_count|\n",
      "+---------------+-------------+\n",
      "|  96.248.127.24|            1|\n",
      "|  63.88.199.227|            1|\n",
      "|   89.55.52.192|            1|\n",
      "| 170.227.53.254|            1|\n",
      "|  122.41.128.64|            1|\n",
      "| 121.201.93.250|            1|\n",
      "| 158.195.171.53|            1|\n",
      "|189.127.112.164|            1|\n",
      "|   24.25.233.55|            1|\n",
      "|  103.47.113.83|            1|\n",
      "+---------------+-------------+\n",
      "\n"
     ]
    }
   ],
   "source": [
    "print('Top 10 IP addreses:')\n",
    "web_log_df.groupBy('ip').agg(F.count('url').alias('request_count')).sort(F.col('request_count').desc()).limit(10).show()"
   ]
  },
  {
   "cell_type": "markdown",
   "metadata": {},
   "source": [
    "2. Сгруппируйте данные по HTTP-методу и посчитайте количество запросов для каждого метода"
   ]
  },
  {
   "cell_type": "code",
   "execution_count": 6,
   "metadata": {},
   "outputs": [
    {
     "name": "stdout",
     "output_type": "stream",
     "text": [
      "Request count by HTTP method:\n",
      "+------+------------+\n",
      "|method|method_count|\n",
      "+------+------------+\n",
      "|   GET|       25153|\n",
      "|  POST|       25042|\n",
      "|DELETE|       24928|\n",
      "|   PUT|       24877|\n",
      "+------+------------+\n",
      "\n"
     ]
    }
   ],
   "source": [
    "print('Request count by HTTP method:')\n",
    "web_log_df.groupBy('method').agg(F.count('url').alias('method_count')).sort(F.col('method_count').desc()).limit(10).show()"
   ]
  },
  {
   "cell_type": "markdown",
   "metadata": {},
   "source": [
    "3. Профильтруйте и посчитайте количество запросов с кодом ответа 404."
   ]
  },
  {
   "cell_type": "code",
   "execution_count": 7,
   "metadata": {},
   "outputs": [],
   "source": [
    "response_404 = web_log_df.filter(F.col('response_code') == 404).count()"
   ]
  },
  {
   "cell_type": "code",
   "execution_count": 8,
   "metadata": {},
   "outputs": [
    {
     "name": "stdout",
     "output_type": "stream",
     "text": [
      "Number of 404 responsecodes: 25014\n"
     ]
    }
   ],
   "source": [
    "print(f'Number of 404 responsecodes: {response_404}')"
   ]
  },
  {
   "cell_type": "markdown",
   "metadata": {},
   "source": [
    "4. Сгруппируйте данные по дате и просуммируйте размер ответов, сортируйте по дате."
   ]
  },
  {
   "cell_type": "code",
   "execution_count": 9,
   "metadata": {},
   "outputs": [],
   "source": [
    "web_log_df = web_log_df.withColumn(\"date\", F.to_date(F.col(\"timestamp\"), \"yyyy-MM-dd\"))"
   ]
  },
  {
   "cell_type": "code",
   "execution_count": 10,
   "metadata": {},
   "outputs": [
    {
     "name": "stdout",
     "output_type": "stream",
     "text": [
      "+--------------+-------------------+------+--------------------+-------------+-------------+----------+\n",
      "|            ip|          timestamp|method|                 url|response_code|response_size|      date|\n",
      "+--------------+-------------------+------+--------------------+-------------+-------------+----------+\n",
      "|21.104.147.251|2025-02-02 17:13:19|   PUT|     search/category|          404|         4336|2025-02-02|\n",
      "|   79.55.85.39|2025-02-12 11:40:16|  POST|      blog/list/blog|          200|         6093|2025-02-12|\n",
      "|146.23.151.150|2025-02-24 18:54:21|DELETE|           main/list|          200|         2327|2025-02-24|\n",
      "| 214.156.65.56|2025-02-10 09:33:29|   PUT|category/app/explore|          404|          966|2025-02-10|\n",
      "|  161.65.229.8|2025-02-16 01:26:03|   GET|explore/blog/wp-c...|          200|         3286|2025-02-16|\n",
      "+--------------+-------------------+------+--------------------+-------------+-------------+----------+\n",
      "only showing top 5 rows\n",
      "\n"
     ]
    }
   ],
   "source": [
    "web_log_df.show(5)"
   ]
  },
  {
   "cell_type": "code",
   "execution_count": 11,
   "metadata": {},
   "outputs": [
    {
     "name": "stdout",
     "output_type": "stream",
     "text": [
      "Total response size by day:\n",
      "+----------+-------------------+\n",
      "|      date|total_response_size|\n",
      "+----------+-------------------+\n",
      "|2025-01-01|            7615124|\n",
      "|2025-01-02|            7582730|\n",
      "|2025-01-03|            7566740|\n",
      "|2025-01-04|            7388726|\n",
      "|2025-01-05|            7383785|\n",
      "|2025-01-06|            7112499|\n",
      "|2025-01-07|            7448674|\n",
      "|2025-01-08|            7216101|\n",
      "|2025-01-09|            7118227|\n",
      "|2025-01-10|            7405951|\n",
      "|2025-01-11|            7186691|\n",
      "|2025-01-12|            7465617|\n",
      "|2025-01-13|            7732821|\n",
      "|2025-01-14|            7323256|\n",
      "|2025-01-15|            7708653|\n",
      "|2025-01-16|            7174167|\n",
      "|2025-01-17|            7331699|\n",
      "|2025-01-18|            7440824|\n",
      "|2025-01-19|            7732956|\n",
      "|2025-01-20|            7384204|\n",
      "+----------+-------------------+\n",
      "only showing top 20 rows\n",
      "\n"
     ]
    }
   ],
   "source": [
    "print('Total response size by day:')\n",
    "web_log_df.groupBy('date').agg(F.sum('response_size').alias('total_response_size')).sort('date').show()"
   ]
  }
 ],
 "metadata": {
  "kernelspec": {
   "display_name": "myvenv",
   "language": "python",
   "name": "python3"
  },
  "language_info": {
   "codemirror_mode": {
    "name": "ipython",
    "version": 3
   },
   "file_extension": ".py",
   "mimetype": "text/x-python",
   "name": "python",
   "nbconvert_exporter": "python",
   "pygments_lexer": "ipython3",
   "version": "3.12.7"
  }
 },
 "nbformat": 4,
 "nbformat_minor": 2
}
